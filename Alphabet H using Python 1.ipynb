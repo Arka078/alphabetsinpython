{
 "cells": [
  {
   "cell_type": "code",
   "execution_count": 1,
   "metadata": {},
   "outputs": [
    {
     "name": "stdout",
     "output_type": "stream",
     "text": [
      "1     4\n",
      "2     3\n",
      "3     2\n",
      "4 3 2 1\n",
      "3     2\n",
      "2     3\n",
      "1     4\n"
     ]
    }
   ],
   "source": [
    "def alphabetPattern(N):\n",
    "    left, middle, right = 0, N - 1, N + 1\n",
    "    for row in range(0, 2 * N - 1):\n",
    " \n",
    "        # cond left Values\n",
    "        if row < N:\n",
    "            left += 1\n",
    "            print(left, end = \"\")\n",
    "        else:\n",
    "            left -= 1\n",
    "            print(left, end = \"\")\n",
    " \n",
    "        # middle values\n",
    "        for col in range(1, N - 1):\n",
    " \n",
    "            # Cond for middleValues\n",
    "            if row != N - 1:\n",
    " \n",
    "                # Two spaces for perfect alignment\n",
    "                print(\" \", end = \" \")\n",
    "                 \n",
    "            else:\n",
    "                print(\" \" + str(middle), end = \"\")\n",
    "                middle -= 1\n",
    " \n",
    "        # Cond right Values\n",
    "        if row < N:\n",
    "            right -= 1\n",
    "            print(\" \" + str(right), end = \"\")\n",
    "        else:\n",
    "            right += 1\n",
    "            print(\" \" + str(right), end = \"\")\n",
    "         \n",
    "        print()\n",
    " \n",
    "# Driver Code\n",
    "if __name__ == \"__main__\":\n",
    " \n",
    "    # Size of the Pattern\n",
    "    N = 4\n",
    "    alphabetPattern(N)"
   ]
  },
  {
   "cell_type": "code",
   "execution_count": null,
   "metadata": {},
   "outputs": [],
   "source": []
  }
 ],
 "metadata": {
  "kernelspec": {
   "display_name": "Python 3",
   "language": "python",
   "name": "python3"
  },
  "language_info": {
   "codemirror_mode": {
    "name": "ipython",
    "version": 3
   },
   "file_extension": ".py",
   "mimetype": "text/x-python",
   "name": "python",
   "nbconvert_exporter": "python",
   "pygments_lexer": "ipython3",
   "version": "3.8.8"
  }
 },
 "nbformat": 4,
 "nbformat_minor": 2
}
